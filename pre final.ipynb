{
 "cells": [
  {
   "cell_type": "code",
   "execution_count": 1,
   "id": "d3fcb23d-f2b5-4084-a8a7-4b040d55df19",
   "metadata": {},
   "outputs": [],
   "source": [
    "import pandas as pd\n",
    "import numpy as np\n",
    "import datetime\n",
    "import mysql.connector\n",
    "from sklearn.impute import SimpleImputer\n",
    "from sklearn.preprocessing import StandardScaler\n",
    "from joblib import load"
   ]
  },
  {
   "cell_type": "code",
   "execution_count": 3,
   "id": "6b81ac99-f521-47c6-9b2b-b8423823affa",
   "metadata": {},
   "outputs": [],
   "source": [
    "connection = mysql.connector.connect(\n",
    "    host='localhost',\n",
    "    user='root',\n",
    "    password='951Kdroot@12',\n",
    "    database='MLhack'\n",
    ")"
   ]
  },
  {
   "cell_type": "code",
   "execution_count": 5,
   "id": "88442571-b5cc-41a8-a9f8-fe5a83f06010",
   "metadata": {},
   "outputs": [
    {
     "name": "stdout",
     "output_type": "stream",
     "text": [
      "   customer_id  age  tenure  monthly_usage  complaints  returns  \\\n",
      "0          240   40      40       336.3820         0.0      3.0   \n",
      "1          587   63       9        43.0036         1.0      1.0   \n",
      "2           84   45      50       433.1370         0.0      0.0   \n",
      "3          335   45      43       288.9890         1.0      0.0   \n",
      "4          225   28      17       121.2230         0.0      0.0   \n",
      "\n",
      "   emails_opened  daily_logins  sensor_triggers  \n",
      "0            0.0           0.0              1.0  \n",
      "1            0.0           0.0              0.0  \n",
      "2            1.0           1.0              0.0  \n",
      "3            1.0           0.0              1.0  \n",
      "4            0.0           1.0              0.0  \n"
     ]
    },
    {
     "name": "stderr",
     "output_type": "stream",
     "text": [
      "C:\\Users\\kdala\\AppData\\Local\\Temp\\ipykernel_26324\\3076552557.py:19: UserWarning: pandas only supports SQLAlchemy connectable (engine/connection) or database string URI or sqlite3 DBAPI2 connection. Other DBAPI2 objects are not tested. Please consider using SQLAlchemy.\n",
      "  events_df = pd.read_sql(events_query, connection)\n"
     ]
    }
   ],
   "source": [
    "events_query = \"\"\"\n",
    "SELECT \n",
    "    c.customer_id,\n",
    "    c.age,\n",
    "    c.tenure,\n",
    "    c.monthly_usage,\n",
    "    SUM(CASE WHEN e.event_type = 'Complaints' THEN 1 ELSE 0 END) AS complaints,\n",
    "    SUM(CASE WHEN e.event_type = 'Returns' THEN 1 ELSE 0 END) AS returns,\n",
    "    SUM(CASE WHEN e.event_type = 'email_open' THEN 1 ELSE 0 END) AS emails_opened,\n",
    "    SUM(CASE WHEN e.event_type = 'login' THEN 1 ELSE 0 END) AS daily_logins,\n",
    "    SUM(CASE WHEN e.event_type = 'sensor_trigger' THEN 1 ELSE 0 END) AS sensor_triggers\n",
    "FROM events e\n",
    "JOIN customers c ON e.customer_id = c.customer_id\n",
    "WHERE e.event_timestamp >= '2024-01-01' AND e.event_timestamp < '2024-02-01'\n",
    "GROUP BY c.customer_id, c.age, c.tenure, c.monthly_usage;\n",
    "\"\"\"\n",
    "\n",
    "# Fetch data from the database using pandas\n",
    "events_df = pd.read_sql(events_query, connection)\n",
    "\n",
    "# Close the database connection\n",
    "connection.close()\n",
    "\n",
    "# Display the first few rows of the joined data\n",
    "print(events_df.head())\n"
   ]
  },
  {
   "cell_type": "code",
   "execution_count": 7,
   "id": "cbe72b83-5726-4179-96cb-2c0c87e3ea90",
   "metadata": {},
   "outputs": [],
   "source": [
    "imputer = SimpleImputer(strategy='mean')\n",
    "events_df[['age', 'tenure', 'monthly_usage', 'complaints', 'returns', \n",
    "           'emails_opened', 'daily_logins', 'sensor_triggers']] = imputer.fit_transform(\n",
    "    events_df[['age', 'tenure', 'monthly_usage', 'complaints', 'returns', \n",
    "               'emails_opened', 'daily_logins', 'sensor_triggers']]\n",
    ")"
   ]
  },
  {
   "cell_type": "code",
   "execution_count": 9,
   "id": "ed3ce667-b62d-4456-805a-87119f3c9711",
   "metadata": {},
   "outputs": [],
   "source": [
    "scaler = StandardScaler()\n",
    "events_df[['age', 'tenure', 'monthly_usage', 'complaints', 'returns', \n",
    "           'emails_opened', 'daily_logins', 'sensor_triggers']] = scaler.fit_transform(\n",
    "    events_df[['age', 'tenure', 'monthly_usage', 'complaints', 'returns', \n",
    "               'emails_opened', 'daily_logins', 'sensor_triggers']]\n",
    ")"
   ]
  },
  {
   "cell_type": "code",
   "execution_count": 11,
   "id": "5321e5b2-123d-4f7a-9ff9-9a5509232a6c",
   "metadata": {},
   "outputs": [],
   "source": [
    "import joblib\n",
    "\n",
    "# Load the trained model from the .pkl file (or any other file you saved it as)\n",
    "rf_model = joblib.load('models/random_forest_model_v1.pkl')"
   ]
  },
  {
   "cell_type": "code",
   "execution_count": 13,
   "id": "ac4294ee-bcd8-4be8-9747-cfc38fdf8e28",
   "metadata": {},
   "outputs": [],
   "source": [
    "# Keep 'Customer_ID' while preparing the features for prediction\n",
    "X_predict = events_df[['age', 'tenure', 'monthly_usage', 'complaints', 'returns', \n",
    "               'emails_opened', 'daily_logins', 'sensor_triggers']]\n",
    "\n",
    "\n"
   ]
  },
  {
   "cell_type": "code",
   "execution_count": 15,
   "id": "e295e300-7e91-4565-b48f-340990a9a5c8",
   "metadata": {},
   "outputs": [
    {
     "name": "stdout",
     "output_type": "stream",
     "text": [
      "Model type: <class 'sklearn.ensemble._forest.RandomForestClassifier'>\n"
     ]
    }
   ],
   "source": [
    "print(\"Model type:\", type(rf_model)) "
   ]
  },
  {
   "cell_type": "code",
   "execution_count": 17,
   "id": "f019a377-09de-4205-a768-494a19082d6b",
   "metadata": {},
   "outputs": [
    {
     "name": "stdout",
     "output_type": "stream",
     "text": [
      "Columns in X_predict: Index(['Age', 'Tenure', 'Monthly_Usage', 'Complaints', 'Returns',\n",
      "       'Emails_Opened', 'Daily_Logins', 'Sensor_Triggers'],\n",
      "      dtype='object')\n"
     ]
    }
   ],
   "source": [
    "# Rename columns in X_predict to match the model's expected feature names\n",
    "X_predict = X_predict.rename(columns={\n",
    "    'age': 'Age',\n",
    "    'complaints': 'Complaints',\n",
    "    'daily_logins': 'Daily_Logins',\n",
    "    'emails_opened': 'Emails_Opened',\n",
    "    'monthly_usage': 'Monthly_Usage',\n",
    "    'sensor_triggers': 'Sensor_Triggers',\n",
    "    'tenure': 'Tenure',\n",
    "    'returns': 'Returns'\n",
    "})\n",
    "\n",
    "# Check the column names after renaming\n",
    "print(\"Columns in X_predict:\", X_predict.columns)\n",
    "\n"
   ]
  },
  {
   "cell_type": "code",
   "execution_count": 19,
   "id": "d90b990b-faf5-47a7-8461-ca339b6220f9",
   "metadata": {},
   "outputs": [
    {
     "name": "stdout",
     "output_type": "stream",
     "text": [
      "Columns in events_df: Index(['customer_id', 'age', 'tenure', 'monthly_usage', 'complaints',\n",
      "       'returns', 'emails_opened', 'daily_logins', 'sensor_triggers'],\n",
      "      dtype='object')\n"
     ]
    }
   ],
   "source": [
    "print(\"Columns in events_df:\", events_df.columns)\n"
   ]
  },
  {
   "cell_type": "code",
   "execution_count": 21,
   "id": "4c4655f9-7143-4d83-b4e3-984eb470f6d9",
   "metadata": {},
   "outputs": [
    {
     "name": "stdout",
     "output_type": "stream",
     "text": [
      "     customer_id  Churn_Prediction\n",
      "0            240                 0\n",
      "1            587                 1\n",
      "2             84                 0\n",
      "3            335                 1\n",
      "4            225                 0\n",
      "..           ...               ...\n",
      "571          307                 0\n",
      "572          848                 1\n",
      "573           70                 0\n",
      "574          780                 0\n",
      "575          248                 1\n",
      "\n",
      "[576 rows x 2 columns]\n"
     ]
    }
   ],
   "source": [
    "# Now make predictions\n",
    "events_df['Churn_Prediction'] = rf_model.predict(X_predict)\n",
    "\n",
    "# Display predicted churn along with 'Customer_ID'\n",
    "print(events_df[['customer_id', 'Churn_Prediction']])"
   ]
  },
  {
   "cell_type": "code",
   "execution_count": 23,
   "id": "e4b6b4a5-a894-4312-a732-3922d5be9652",
   "metadata": {},
   "outputs": [],
   "source": [
    "# Filter at-risk customers (those with predicted churn)\n",
    "at_risk_customers = events_df[events_df['Churn_Prediction'] == 1]\n",
    "\n",
    "# Select relevant columns to send to the front end\n",
    "at_risk_customers_data = at_risk_customers[['customer_id', 'Churn_Prediction']]\n"
   ]
  },
  {
   "cell_type": "code",
   "execution_count": null,
   "id": "80a9e0d0-5daa-48a1-ba23-8a1217877ba3",
   "metadata": {},
   "outputs": [],
   "source": []
  }
 ],
 "metadata": {
  "kernelspec": {
   "display_name": "Python 3 (ipykernel)",
   "language": "python",
   "name": "python3"
  },
  "language_info": {
   "codemirror_mode": {
    "name": "ipython",
    "version": 3
   },
   "file_extension": ".py",
   "mimetype": "text/x-python",
   "name": "python",
   "nbconvert_exporter": "python",
   "pygments_lexer": "ipython3",
   "version": "3.12.7"
  }
 },
 "nbformat": 4,
 "nbformat_minor": 5
}
