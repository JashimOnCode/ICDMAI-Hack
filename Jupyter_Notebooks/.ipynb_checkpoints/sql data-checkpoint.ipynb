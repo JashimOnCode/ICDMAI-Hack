{
 "cells": [
  {
   "cell_type": "code",
   "execution_count": 3,
   "id": "6d1440a9-d2e5-480c-a548-cc995b133332",
   "metadata": {},
   "outputs": [
    {
     "name": "stdout",
     "output_type": "stream",
     "text": [
      "Collecting mysql-connector-python\n",
      "  Downloading mysql_connector_python-9.1.0-cp312-cp312-win_amd64.whl.metadata (6.2 kB)\n",
      "Downloading mysql_connector_python-9.1.0-cp312-cp312-win_amd64.whl (16.1 MB)\n",
      "   ---------------------------------------- 0.0/16.1 MB ? eta -:--:--\n",
      "   ---------------------------------------- 0.0/16.1 MB ? eta -:--:--\n",
      "    --------------------------------------- 0.3/16.1 MB ? eta -:--:--\n",
      "    --------------------------------------- 0.3/16.1 MB ? eta -:--:--\n",
      "   - -------------------------------------- 0.5/16.1 MB 730.2 kB/s eta 0:00:22\n",
      "   - -------------------------------------- 0.5/16.1 MB 730.2 kB/s eta 0:00:22\n",
      "   - -------------------------------------- 0.8/16.1 MB 645.7 kB/s eta 0:00:24\n",
      "   - -------------------------------------- 0.8/16.1 MB 645.7 kB/s eta 0:00:24\n",
      "   -- ------------------------------------- 1.0/16.1 MB 689.9 kB/s eta 0:00:22\n",
      "   --- ------------------------------------ 1.3/16.1 MB 692.1 kB/s eta 0:00:22\n",
      "   --- ------------------------------------ 1.6/16.1 MB 769.7 kB/s eta 0:00:19\n",
      "   ---- ----------------------------------- 1.8/16.1 MB 818.3 kB/s eta 0:00:18\n",
      "   ----- ---------------------------------- 2.1/16.1 MB 876.3 kB/s eta 0:00:16\n",
      "   ----- ---------------------------------- 2.4/16.1 MB 938.7 kB/s eta 0:00:15\n",
      "   ------- -------------------------------- 2.9/16.1 MB 998.6 kB/s eta 0:00:14\n",
      "   ------- -------------------------------- 3.1/16.1 MB 1.0 MB/s eta 0:00:13\n",
      "   ------- -------------------------------- 3.1/16.1 MB 1.0 MB/s eta 0:00:13\n",
      "   -------- ------------------------------- 3.4/16.1 MB 1.0 MB/s eta 0:00:13\n",
      "   --------- ------------------------------ 3.7/16.1 MB 1.0 MB/s eta 0:00:13\n",
      "   --------- ------------------------------ 3.9/16.1 MB 1.0 MB/s eta 0:00:12\n",
      "   ---------- ----------------------------- 4.2/16.1 MB 1.0 MB/s eta 0:00:12\n",
      "   ----------- ---------------------------- 4.5/16.1 MB 1.0 MB/s eta 0:00:12\n",
      "   ----------- ---------------------------- 4.7/16.1 MB 1.0 MB/s eta 0:00:11\n",
      "   ------------ --------------------------- 5.0/16.1 MB 1.0 MB/s eta 0:00:11\n",
      "   ------------ --------------------------- 5.0/16.1 MB 1.0 MB/s eta 0:00:11\n",
      "   ------------- -------------------------- 5.2/16.1 MB 1.0 MB/s eta 0:00:11\n",
      "   ------------- -------------------------- 5.5/16.1 MB 1.0 MB/s eta 0:00:11\n",
      "   -------------- ------------------------- 5.8/16.1 MB 1.0 MB/s eta 0:00:11\n",
      "   --------------- ------------------------ 6.0/16.1 MB 1.0 MB/s eta 0:00:10\n",
      "   --------------- ------------------------ 6.3/16.1 MB 1.0 MB/s eta 0:00:10\n",
      "   --------------- ------------------------ 6.3/16.1 MB 1.0 MB/s eta 0:00:10\n",
      "   ---------------- ----------------------- 6.6/16.1 MB 1.0 MB/s eta 0:00:10\n",
      "   ---------------- ----------------------- 6.8/16.1 MB 1.0 MB/s eta 0:00:10\n",
      "   ----------------- ---------------------- 7.1/16.1 MB 1.0 MB/s eta 0:00:09\n",
      "   ------------------ --------------------- 7.3/16.1 MB 1.0 MB/s eta 0:00:09\n",
      "   ------------------ --------------------- 7.6/16.1 MB 1.0 MB/s eta 0:00:09\n",
      "   ------------------ --------------------- 7.6/16.1 MB 1.0 MB/s eta 0:00:09\n",
      "   ------------------- -------------------- 7.9/16.1 MB 1.0 MB/s eta 0:00:09\n",
      "   -------------------- ------------------- 8.1/16.1 MB 1.0 MB/s eta 0:00:08\n",
      "   -------------------- ------------------- 8.4/16.1 MB 1.0 MB/s eta 0:00:08\n",
      "   -------------------- ------------------- 8.4/16.1 MB 1.0 MB/s eta 0:00:08\n",
      "   --------------------- ------------------ 8.7/16.1 MB 1.0 MB/s eta 0:00:08\n",
      "   ---------------------- ----------------- 8.9/16.1 MB 995.8 kB/s eta 0:00:08\n",
      "   ---------------------- ----------------- 8.9/16.1 MB 995.8 kB/s eta 0:00:08\n",
      "   ---------------------- ----------------- 9.2/16.1 MB 980.1 kB/s eta 0:00:08\n",
      "   ----------------------- ---------------- 9.4/16.1 MB 980.3 kB/s eta 0:00:07\n",
      "   ----------------------- ---------------- 9.4/16.1 MB 980.3 kB/s eta 0:00:07\n",
      "   ------------------------ --------------- 9.7/16.1 MB 974.2 kB/s eta 0:00:07\n",
      "   ------------------------ --------------- 10.0/16.1 MB 971.5 kB/s eta 0:00:07\n",
      "   ------------------------- -------------- 10.2/16.1 MB 971.9 kB/s eta 0:00:07\n",
      "   ------------------------- -------------- 10.2/16.1 MB 971.9 kB/s eta 0:00:07\n",
      "   -------------------------- ------------- 10.5/16.1 MB 973.7 kB/s eta 0:00:06\n",
      "   -------------------------- ------------- 10.7/16.1 MB 978.2 kB/s eta 0:00:06\n",
      "   --------------------------- ------------ 11.0/16.1 MB 978.5 kB/s eta 0:00:06\n",
      "   ---------------------------- ----------- 11.3/16.1 MB 978.7 kB/s eta 0:00:05\n",
      "   ---------------------------- ----------- 11.5/16.1 MB 982.8 kB/s eta 0:00:05\n",
      "   ----------------------------- ---------- 11.8/16.1 MB 985.6 kB/s eta 0:00:05\n",
      "   ------------------------------ --------- 12.1/16.1 MB 989.5 kB/s eta 0:00:05\n",
      "   ------------------------------ --------- 12.3/16.1 MB 990.7 kB/s eta 0:00:04\n",
      "   ------------------------------- -------- 12.6/16.1 MB 999.4 kB/s eta 0:00:04\n",
      "   -------------------------------- ------- 13.1/16.1 MB 1.0 MB/s eta 0:00:03\n",
      "   --------------------------------- ------ 13.4/16.1 MB 1.0 MB/s eta 0:00:03\n",
      "   --------------------------------- ------ 13.6/16.1 MB 1.0 MB/s eta 0:00:03\n",
      "   ---------------------------------- ----- 13.9/16.1 MB 1.0 MB/s eta 0:00:03\n",
      "   ----------------------------------- ---- 14.2/16.1 MB 1.0 MB/s eta 0:00:02\n",
      "   ------------------------------------ --- 14.7/16.1 MB 1.1 MB/s eta 0:00:02\n",
      "   ------------------------------------- -- 14.9/16.1 MB 1.1 MB/s eta 0:00:02\n",
      "   ------------------------------------- -- 15.2/16.1 MB 1.1 MB/s eta 0:00:01\n",
      "   ------------------------------------- -- 15.2/16.1 MB 1.1 MB/s eta 0:00:01\n",
      "   ---------------------------------------  15.7/16.1 MB 1.1 MB/s eta 0:00:01\n",
      "   ---------------------------------------  16.0/16.1 MB 1.1 MB/s eta 0:00:01\n",
      "   ---------------------------------------- 16.1/16.1 MB 1.1 MB/s eta 0:00:00\n",
      "Installing collected packages: mysql-connector-python\n",
      "Successfully installed mysql-connector-python-9.1.0\n"
     ]
    }
   ],
   "source": [
    "!pip install mysql-connector-python"
   ]
  },
  {
   "cell_type": "code",
   "execution_count": 4,
   "id": "344f6b82-12b3-49ff-b71d-039d6dcefee2",
   "metadata": {},
   "outputs": [],
   "source": [
    "import mysql.connector\n",
    "import pandas as pd\n",
    "import numpy as np"
   ]
  },
  {
   "cell_type": "code",
   "execution_count": 7,
   "id": "5e300689-f854-4c4b-8887-695ce3cf32a4",
   "metadata": {},
   "outputs": [],
   "source": [
    "# Connect to MySQL\n",
    "conn = mysql.connector.connect(\n",
    "    host=\"localhost\",          # Change to your MySQL host\n",
    "    user=\"root\",      # Change to your MySQL username\n",
    "    password=\"951Kdroot@12\",  # Change to your MySQL password\n",
    "    database=\"MLhack\"   # Change to your database name\n",
    ")\n",
    "cursor = conn.cursor()"
   ]
  },
  {
   "cell_type": "code",
   "execution_count": 9,
   "id": "8ac2666e-caac-4540-bdcc-ab561772d705",
   "metadata": {},
   "outputs": [],
   "source": [
    "# Step 1: Create the `customers` table\n",
    "create_table_query = \"\"\"\n",
    "CREATE TABLE IF NOT EXISTS customers (\n",
    "    customer_id INT PRIMARY KEY AUTO_INCREMENT,\n",
    "    age INT,\n",
    "    tenure INT,\n",
    "    monthly_usage FLOAT,\n",
    "    complaints INT,\n",
    "    returns INT,\n",
    "    emails_opened INT,\n",
    "    daily_logins INT,\n",
    "    sensor_triggers INT\n",
    ");\n",
    "\"\"\"\n",
    "cursor.execute(create_table_query)\n",
    "conn.commit()"
   ]
  },
  {
   "cell_type": "code",
   "execution_count": 11,
   "id": "f5c2359b-172f-40ef-9b78-ebb7e499d72d",
   "metadata": {},
   "outputs": [],
   "source": [
    "# Step 2: Generate Synthetic Data\n",
    "num_customers = 1000  # Number of customers to generate\n"
   ]
  },
  {
   "cell_type": "code",
   "execution_count": 13,
   "id": "b7268844-b22f-4168-8119-a4f3a343332e",
   "metadata": {},
   "outputs": [],
   "source": [
    "# Generate random values for each attribute\n",
    "customer_data = pd.DataFrame({\n",
    "    'age': np.random.randint(18, 70, num_customers),  # Age between 18 and 70\n",
    "    'tenure': np.random.randint(1, 60, num_customers),  # Tenure in months\n",
    "    'monthly_usage': np.random.uniform(10, 500, num_customers),  # Monthly usage in arbitrary units\n",
    "    'complaints': np.random.randint(0, 5, num_customers),  # Number of complaints\n",
    "    'returns': np.random.randint(0, 3, num_customers),  # Number of returns\n",
    "    'emails_opened': np.random.randint(0, 10, num_customers),  # Emails opened in the past month\n",
    "    'daily_logins': np.random.randint(0, 5, num_customers),  # Average daily logins\n",
    "    'sensor_triggers': np.random.randint(0, 10, num_customers)  # Sensor triggers in the past month\n",
    "})"
   ]
  },
  {
   "cell_type": "code",
   "execution_count": 15,
   "id": "1b1c9a07-e491-4af6-ba75-45b0ddc1feed",
   "metadata": {},
   "outputs": [
    {
     "name": "stdout",
     "output_type": "stream",
     "text": [
      "1000 customer records inserted into the database.\n"
     ]
    }
   ],
   "source": [
    "# Step 3: Insert Data into the MySQL Table\n",
    "insert_query = \"\"\"\n",
    "INSERT INTO customers (age, tenure, monthly_usage, complaints, returns, emails_opened, daily_logins, sensor_triggers)\n",
    "VALUES (%s, %s, %s, %s, %s, %s, %s, %s)\n",
    "\"\"\"\n",
    "\n",
    "# Iterate over the generated DataFrame and insert each row into the database\n",
    "for _, row in customer_data.iterrows():\n",
    "    cursor.execute(insert_query, tuple(row))\n",
    "\n",
    "conn.commit()\n",
    "print(f\"{num_customers} customer records inserted into the database.\")\n",
    "\n",
    "# Close the database connection\n",
    "cursor.close()\n",
    "conn.close()"
   ]
  },
  {
   "cell_type": "code",
   "execution_count": 17,
   "id": "8751756e-fa6d-4a49-9a1f-4be703ca1f5e",
   "metadata": {},
   "outputs": [
    {
     "name": "stdout",
     "output_type": "stream",
     "text": [
      "\n",
      "Sample Event Stream Data:\n",
      "       Customer_ID Event_Timestamp      Event_Type  Event_Value\n",
      "397           850      2024-01-01  sensor_trigger            4\n",
      "3583           19      2024-01-01      email_open            1\n",
      "2366          951      2024-01-01  sensor_trigger            3\n",
      "1398          324      2024-01-01  sensor_trigger            1\n",
      "4893          782      2024-01-01         Returns            2\n"
     ]
    }
   ],
   "source": [
    "import pandas as pd\n",
    "import numpy as np\n",
    "import datetime\n",
    "\n",
    "# Number of events for streaming\n",
    "num_events = 5000\n",
    "start_date = datetime.datetime(2024, 1, 1)\n",
    "\n",
    "# Generate event data\n",
    "event_data = {\n",
    "    'Customer_ID': np.random.randint(1, 1001, num_events),  # Ensures IDs are between 1 and 1000\n",
    "    'Event_Timestamp': [start_date + datetime.timedelta(days=np.random.randint(0, 180)) for _ in range(num_events)],\n",
    "    'Event_Type': np.random.choice(['login', 'sensor_trigger', 'email_open', 'Returns', 'Complaints'], num_events),\n",
    "}\n",
    "\n",
    "# Logical Event Values\n",
    "def generate_event_value(row):\n",
    "    if row['Event_Type'] in ['login', 'email_open']:\n",
    "        return np.random.randint(1, 5)  # Lower range for simple actions\n",
    "    elif row['Event_Type'] == 'sensor_trigger':\n",
    "        return np.random.randint(1, 10)  # Medium range for IoT events\n",
    "    elif row['Event_Type'] == 'Returns':\n",
    "        return np.random.randint(1, 3)  # Binary-like data\n",
    "    elif row['Event_Type'] == 'Complaints':\n",
    "        return np.random.randint(1, 8)  # Higher range for complaints\n",
    "    return 1  # Fallback value (though unlikely to be used)\n",
    "\n",
    "# Create DataFrame\n",
    "event_df = pd.DataFrame(event_data)\n",
    "\n",
    "# Add Event_Value based on logic\n",
    "event_df['Event_Value'] = event_df.apply(generate_event_value, axis=1)\n",
    "\n",
    "# Sort by Event_Timestamp to mimic realistic streaming\n",
    "event_df = event_df.sort_values(by='Event_Timestamp')\n",
    "\n",
    "# Save to CSV\n",
    "event_df.to_csv('customer_event_stream.csv', index=False)\n",
    "\n",
    "print(\"\\nSample Event Stream Data:\\n\", event_df.head())\n"
   ]
  },
  {
   "cell_type": "code",
   "execution_count": null,
   "id": "549b230e-c17c-4e8c-8880-0503eedd3dd5",
   "metadata": {},
   "outputs": [],
   "source": []
  },
  {
   "cell_type": "code",
   "execution_count": null,
   "id": "7e23d85c-7369-4d6b-be0e-d0fc4d6731fe",
   "metadata": {},
   "outputs": [],
   "source": []
  }
 ],
 "metadata": {
  "kernelspec": {
   "display_name": "Python 3 (ipykernel)",
   "language": "python",
   "name": "python3"
  },
  "language_info": {
   "codemirror_mode": {
    "name": "ipython",
    "version": 3
   },
   "file_extension": ".py",
   "mimetype": "text/x-python",
   "name": "python",
   "nbconvert_exporter": "python",
   "pygments_lexer": "ipython3",
   "version": "3.12.7"
  }
 },
 "nbformat": 4,
 "nbformat_minor": 5
}
