{
 "cells": [
  {
   "cell_type": "code",
   "execution_count": null,
   "id": "68986ac5-891d-4dbb-917d-cdb700c0851c",
   "metadata": {},
   "outputs": [],
   "source": [
    "!pip install mysql-connector-python"
   ]
  },
  {
   "cell_type": "code",
   "execution_count": 4,
   "id": "344f6b82-12b3-49ff-b71d-039d6dcefee2",
   "metadata": {},
   "outputs": [],
   "source": [
    "import mysql.connector\n",
    "import pandas as pd\n",
    "import numpy as np"
   ]
  },
  {
   "cell_type": "code",
   "execution_count": 7,
   "id": "5e300689-f854-4c4b-8887-695ce3cf32a4",
   "metadata": {},
   "outputs": [],
   "source": [
    "# Connect to MySQL\n",
    "conn = mysql.connector.connect(\n",
    "    host=\"localhost\",          # Change to your MySQL host\n",
    "    user=\"root\",      # Change to your MySQL username\n",
    "    password=\"951Kdroot@12\",  # Change to your MySQL password\n",
    "    database=\"MLhack\"   # Change to your database name\n",
    ")\n",
    "cursor = conn.cursor()"
   ]
  },
  {
   "cell_type": "code",
   "execution_count": 9,
   "id": "8ac2666e-caac-4540-bdcc-ab561772d705",
   "metadata": {},
   "outputs": [],
   "source": [
    "# Step 1: Create the `customers` table\n",
    "create_table_query = \"\"\"\n",
    "CREATE TABLE IF NOT EXISTS customers (\n",
    "    customer_id INT PRIMARY KEY AUTO_INCREMENT,\n",
    "    age INT,\n",
    "    tenure INT,\n",
    "    monthly_usage FLOAT,\n",
    "    complaints INT,\n",
    "    returns INT,\n",
    "    emails_opened INT,\n",
    "    daily_logins INT,\n",
    "    sensor_triggers INT\n",
    ");\n",
    "\"\"\"\n",
    "cursor.execute(create_table_query)\n",
    "conn.commit()"
   ]
  },
  {
   "cell_type": "code",
   "execution_count": 11,
   "id": "f5c2359b-172f-40ef-9b78-ebb7e499d72d",
   "metadata": {},
   "outputs": [],
   "source": [
    "# Step 2: Generate Synthetic Data\n",
    "num_customers = 1000  # Number of customers to generate\n"
   ]
  },
  {
   "cell_type": "code",
   "execution_count": 13,
   "id": "b7268844-b22f-4168-8119-a4f3a343332e",
   "metadata": {},
   "outputs": [],
   "source": [
    "# Generate random values for each attribute\n",
    "customer_data = pd.DataFrame({\n",
    "    'age': np.random.randint(18, 70, num_customers),  # Age between 18 and 70\n",
    "    'tenure': np.random.randint(1, 60, num_customers),  # Tenure in months\n",
    "    'monthly_usage': np.random.uniform(10, 500, num_customers),  # Monthly usage in arbitrary units\n",
    "    'complaints': np.random.randint(0, 5, num_customers),  # Number of complaints\n",
    "    'returns': np.random.randint(0, 3, num_customers),  # Number of returns\n",
    "    'emails_opened': np.random.randint(0, 10, num_customers),  # Emails opened in the past month\n",
    "    'daily_logins': np.random.randint(0, 5, num_customers),  # Average daily logins\n",
    "    'sensor_triggers': np.random.randint(0, 10, num_customers)  # Sensor triggers in the past month\n",
    "})"
   ]
  },
  {
   "cell_type": "code",
   "execution_count": 15,
   "id": "1b1c9a07-e491-4af6-ba75-45b0ddc1feed",
   "metadata": {},
   "outputs": [
    {
     "name": "stdout",
     "output_type": "stream",
     "text": [
      "1000 customer records inserted into the database.\n"
     ]
    }
   ],
   "source": [
    "# Step 3: Insert Data into the MySQL Table\n",
    "insert_query = \"\"\"\n",
    "INSERT INTO customers (age, tenure, monthly_usage, complaints, returns, emails_opened, daily_logins, sensor_triggers)\n",
    "VALUES (%s, %s, %s, %s, %s, %s, %s, %s)\n",
    "\"\"\"\n",
    "\n",
    "# Iterate over the generated DataFrame and insert each row into the database\n",
    "for _, row in customer_data.iterrows():\n",
    "    cursor.execute(insert_query, tuple(row))\n",
    "\n",
    "conn.commit()\n",
    "print(f\"{num_customers} customer records inserted into the database.\")\n",
    "\n",
    "# Close the database connection\n",
    "cursor.close()\n",
    "conn.close()"
   ]
  },
  {
   "cell_type": "markdown",
   "id": "2b36af28-4c2b-425f-be8a-b2cfc33e5392",
   "metadata": {},
   "source": [
    "Insert data in events table"
   ]
  },
  {
   "cell_type": "markdown",
   "id": "7c0a8716-b0bb-4e3f-acb0-c7f6780575b1",
   "metadata": {},
   "source": [
    "Lets go"
   ]
  },
  {
   "cell_type": "code",
   "execution_count": 18,
   "id": "98e97351-0ece-4bcf-88ca-227c4e7068c2",
   "metadata": {},
   "outputs": [
    {
     "name": "stdout",
     "output_type": "stream",
     "text": [
      "Successfully inserted 5000 rows into the 'events' table.\n"
     ]
    }
   ],
   "source": [
    "import pandas as pd\n",
    "import numpy as np\n",
    "import datetime\n",
    "import mysql.connector\n",
    "\n",
    "# MySQL connection setup\n",
    "connection = mysql.connector.connect(\n",
    "    host=\"localhost\",  # Change to your host\n",
    "    user=\"root\",       # Change to your username\n",
    "    password=\"951Kdroot@12\",  # Change to your password\n",
    "    database=\"MLhack\"  # Change to your database name\n",
    ")\n",
    "cursor = connection.cursor()\n",
    "\n",
    "# Number of events for streaming\n",
    "num_events = 5000\n",
    "start_date = datetime.datetime(2024, 1, 1)\n",
    "\n",
    "# Generate event data\n",
    "event_data = {\n",
    "    'Customer_ID': np.random.randint(1, 1001, num_events),  # Ensures IDs are between 1 and 1000\n",
    "    'Event_Timestamp': [start_date + datetime.timedelta(days=np.random.randint(0, 180)) for _ in range(num_events)],\n",
    "    'Event_Type': np.random.choice(['login', 'sensor_trigger', 'email_open', 'Returns', 'Complaints'], num_events),\n",
    "}\n",
    "\n",
    "# Logical Event Values\n",
    "def generate_event_value(row):\n",
    "    if row['Event_Type'] in ['login', 'email_open']:\n",
    "        return np.random.randint(1, 5)  # Lower range for simple actions\n",
    "    elif row['Event_Type'] == 'sensor_trigger':\n",
    "        return np.random.randint(1, 10)  # Medium range for IoT events\n",
    "    elif row['Event_Type'] == 'Returns':\n",
    "        return np.random.randint(1, 3)  # Binary-like data\n",
    "    elif row['Event_Type'] == 'Complaints':\n",
    "        return np.random.randint(1, 8)  # Higher range for complaints\n",
    "    return 1  # Fallback value (though unlikely to be used)\n",
    "\n",
    "# Create DataFrame\n",
    "event_df = pd.DataFrame(event_data)\n",
    "\n",
    "# Add Event_Value based on logic\n",
    "event_df['Event_Value'] = event_df.apply(generate_event_value, axis=1)\n",
    "\n",
    "# Sort by Event_Timestamp to mimic realistic streaming\n",
    "event_df = event_df.sort_values(by='Event_Timestamp')\n",
    "\n",
    "# Insert data directly into MySQL\n",
    "insert_query = \"\"\"\n",
    "    INSERT INTO events (Customer_ID, Event_Timestamp, Event_Type, Event_Value)\n",
    "    VALUES (%s, %s, %s, %s)\n",
    "\"\"\"\n",
    "\n",
    "# Prepare data for bulk insert\n",
    "event_rows = [\n",
    "    (\n",
    "        int(row['Customer_ID']),\n",
    "        row['Event_Timestamp'].strftime('%Y-%m-%d %H:%M:%S'),\n",
    "        row['Event_Type'],\n",
    "        int(row['Event_Value'])\n",
    "    )\n",
    "    for _, row in event_df.iterrows()\n",
    "]\n",
    "\n",
    "try:\n",
    "    # Bulk insert into MySQL\n",
    "    cursor.executemany(insert_query, event_rows)\n",
    "    connection.commit()\n",
    "    print(f\"Successfully inserted {len(event_rows)} rows into the 'events' table.\")\n",
    "except mysql.connector.Error as err:\n",
    "    print(f\"Error: {err}\")\n",
    "    connection.rollback()\n",
    "\n",
    "# Close connection\n",
    "cursor.close()\n",
    "connection.close()\n"
   ]
  },
  {
   "cell_type": "code",
   "execution_count": null,
   "id": "7e23d85c-7369-4d6b-be0e-d0fc4d6731fe",
   "metadata": {},
   "outputs": [],
   "source": []
  },
  {
   "cell_type": "code",
   "execution_count": null,
   "id": "50c16d29-df91-476d-910c-d4cb8196fb1c",
   "metadata": {},
   "outputs": [],
   "source": []
  }
 ],
 "metadata": {
  "kernelspec": {
   "display_name": "Python 3 (ipykernel)",
   "language": "python",
   "name": "python3"
  },
  "language_info": {
   "codemirror_mode": {
    "name": "ipython",
    "version": 3
   },
   "file_extension": ".py",
   "mimetype": "text/x-python",
   "name": "python",
   "nbconvert_exporter": "python",
   "pygments_lexer": "ipython3",
   "version": "3.12.7"
  }
 },
 "nbformat": 4,
 "nbformat_minor": 5
}
